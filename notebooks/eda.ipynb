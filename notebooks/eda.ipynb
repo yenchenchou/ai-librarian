{
 "cells": [
  {
   "cell_type": "code",
   "execution_count": 1,
   "metadata": {},
   "outputs": [],
   "source": [
    "import os\n",
    "\n",
    "os.chdir(\"/Users/yenchenchou/Documents/GitHub/ai-librarian\")"
   ]
  },
  {
   "cell_type": "code",
   "execution_count": 12,
   "metadata": {},
   "outputs": [],
   "source": [
    "import asyncio\n",
    "import json\n",
    "import logging\n",
    "import os\n",
    "import random\n",
    "from datetime import datetime\n",
    "from pathlib import Path\n",
    "from typing import Dict, List, Optional\n",
    "\n",
    "import aiohttp\n",
    "import openai\n",
    "import requests\n",
    "from openai import OpenAI\n",
    "from bs4 import BeautifulSoup\n",
    "from dotenv import load_dotenv\n",
    "from tqdm import tqdm\n"
   ]
  },
  {
   "cell_type": "code",
   "execution_count": 13,
   "metadata": {},
   "outputs": [],
   "source": [
    "# Load environment variables\n",
    "load_dotenv()\n",
    "client = OpenAI(api_key=os.getenv(\"OPENAI_API_KEY\"))"
   ]
  },
  {
   "cell_type": "code",
   "execution_count": 62,
   "metadata": {},
   "outputs": [
    {
     "name": "stdout",
     "output_type": "stream",
     "text": [
      "Classifying questions...\n"
     ]
    },
    {
     "name": "stderr",
     "output_type": "stream",
     "text": [
      "100%|██████████| 74/74 [04:00<00:00,  3.25s/it]"
     ]
    },
    {
     "name": "stdout",
     "output_type": "stream",
     "text": [
      "\n",
      "Classification Summary:\n",
      "----------------------------------------\n",
      "SCHOOL_SPECIFIC_WITH_FACT_ONLY  55 (74.3%)\n",
      "GENERAL_QA                 10 (13.5%)\n",
      "SCHOOL_SPECIFIC_WITH_AI_AGENT_POTENTIAL   9 (12.2%)\n",
      "\n",
      "Example Questions by Category:\n",
      "----------------------------------------\n",
      "\n",
      "SCHOOL_SPECIFIC_WITH_FACT_ONLY:\n",
      "- What is Search@UW?\n",
      "- How can I search for items that are only in the Curriculum Collection at UW-Milwaukee?\n",
      "\n",
      "GENERAL_QA:\n",
      "- What are \"scholarly sources\"?\n",
      "- What is open access and how do I know if the article is open access?\n",
      "\n",
      "SCHOOL_SPECIFIC_WITH_AI_AGENT_POTENTIAL:\n",
      "- How do I get help with research?\n",
      "- Can you help me find autobiographies and biographies for students in grades 1-3?\n",
      "\n",
      "Detailed results saved to data/analysis/classification_results.json\n"
     ]
    },
    {
     "name": "stderr",
     "output_type": "stream",
     "text": [
      "\n"
     ]
    }
   ],
   "source": [
    "# Load the questions data\n",
    "with open(\"data/questions/uwm_questions.json\", \"r\") as f:\n",
    "    questions = json.load(f)\n",
    "\n",
    "\n",
    "def classify_question(question: str) -> dict:\n",
    "    \"\"\"\n",
    "    Classify a question using OpenAI API.\n",
    "    \"\"\"\n",
    "    prompt = \"\"\"Classify the following questions from University of Wisconsin-Milwaukee (UWM) https://uwm.libanswers.com/search/ into one of these categories.\n",
    "    Some questions seem to be genneral questions but you need take into the the factor that they are from UWM students.\n",
    "    1. GENERAL_QA: General questions not related to the University of Wisconsin-Milwaukee.\n",
    "    2. SCHOOL_SPECIFIC_WITH_AI_AGENT_POTENTIAL: Questions requiring UWM-specific knowledge or even internet resources that would benefit from AI assistance to provide comprehensive answers, such as developing research strategies or creating step-by-step plans using UWM resources.\n",
    "    3. SCHOOL_SPECIFIC_WITH_FACT_ONLY: Questions requiring UWM-specific knowledge that can be answered with straightforward facts, without needing additional reasoning or strategic planning. These typically have a single, definitive answer from UWM policies or resources.\n",
    "\n",
    "    Question: {question}\n",
    "\n",
    "    Respond in JSON format (without markdown code block) with:\n",
    "    - category: The chosen category\n",
    "    - confidence: Confidence score (0-1)\n",
    "    - explanation: Brief explanation of classification\n",
    "    \"\"\"\n",
    "\n",
    "    response = client.chat.completions.create(\n",
    "        # model=\"gpt-4o-2024-08-06\",\n",
    "        model=\"o4-mini\",\n",
    "        messages=[\n",
    "            {\"role\": \"system\", \"content\": \"You are a library question classifier.\"},\n",
    "            {\"role\": \"user\", \"content\": prompt.format(question=question)},\n",
    "        ],\n",
    "        # temperature=0.0,\n",
    "    )\n",
    "\n",
    "    return response.choices[0].message.content\n",
    "\n",
    "\n",
    "def parse_classification(classification_str: str) -> dict:\n",
    "    \"\"\"\n",
    "    Parse classification string that might be wrapped in markdown code block.\n",
    "    \"\"\"\n",
    "    # Remove markdown code block if present\n",
    "    if classification_str.startswith(\"```json\"):\n",
    "        classification_str = classification_str.split(\"```json\")[1]\n",
    "    if classification_str.endswith(\"```\"):\n",
    "        classification_str = classification_str.rsplit(\"```\", 1)[0]\n",
    "\n",
    "    # Clean up whitespace and parse JSON\n",
    "    classification_str = classification_str.strip()\n",
    "    return json.loads(classification_str)\n",
    "\n",
    "\n",
    "# Classify all questions\n",
    "print(\"Classifying questions...\")\n",
    "classifications = []\n",
    "for q in tqdm(questions[:]):\n",
    "    result = classify_question(q[\"question\"])\n",
    "    classifications.append(\n",
    "        {\"question\": q[\"question\"], \"classification\": parse_classification(result)}\n",
    "    )\n",
    "\n",
    "# Aggregate results\n",
    "category_counts = {}\n",
    "for c in classifications:\n",
    "    cat = c[\"classification\"][\"category\"]\n",
    "    category_counts[cat] = category_counts.get(cat, 0) + 1\n",
    "\n",
    "# Save detailed results\n",
    "output_path = Path(\"data/analysis/classification_results.json\")\n",
    "output_path.parent.mkdir(parents=True, exist_ok=True)\n",
    "with open(output_path, \"w\") as f:\n",
    "    json.dump(classifications, f, indent=2)\n",
    "\n",
    "# Display summary\n",
    "print(\"\\nClassification Summary:\")\n",
    "print(\"-\" * 40)\n",
    "total = len(classifications)\n",
    "for category, count in category_counts.items():\n",
    "    percentage = (count / total) * 100\n",
    "    print(f\"{category:25} {count:3d} ({percentage:.1f}%)\")\n",
    "\n",
    "# Show examples\n",
    "print(\"\\nExample Questions by Category:\")\n",
    "print(\"-\" * 40)\n",
    "for category in category_counts.keys():\n",
    "    print(f\"\\n{category}:\")\n",
    "    examples = [\n",
    "        c[\"question\"]\n",
    "        for c in classifications\n",
    "        if c[\"classification\"][\"category\"] == category\n",
    "    ][\n",
    "        :2\n",
    "    ]  # Show up to 2 examples\n",
    "    for ex in examples:\n",
    "        print(f\"- {ex}\")\n",
    "\n",
    "print(f\"\\nDetailed results saved to {output_path}\")"
   ]
  },
  {
   "cell_type": "code",
   "execution_count": 63,
   "metadata": {},
   "outputs": [
    {
     "data": {
      "text/plain": [
       "{'SCHOOL_SPECIFIC_WITH_FACT_ONLY': 55,\n",
       " 'GENERAL_QA': 10,\n",
       " 'SCHOOL_SPECIFIC_WITH_AI_AGENT_POTENTIAL': 9}"
      ]
     },
     "execution_count": 63,
     "metadata": {},
     "output_type": "execute_result"
    }
   ],
   "source": [
    "category_counts"
   ]
  }
 ],
 "metadata": {
  "kernelspec": {
   "display_name": ".venv",
   "language": "python",
   "name": "python3"
  },
  "language_info": {
   "codemirror_mode": {
    "name": "ipython",
    "version": 3
   },
   "file_extension": ".py",
   "mimetype": "text/x-python",
   "name": "python",
   "nbconvert_exporter": "python",
   "pygments_lexer": "ipython3",
   "version": "3.11.11"
  }
 },
 "nbformat": 4,
 "nbformat_minor": 2
}
